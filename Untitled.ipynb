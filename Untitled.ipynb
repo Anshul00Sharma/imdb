{
 "cells": [
  {
   "cell_type": "markdown",
   "id": "f9c54ee3-9b3c-42b5-8f1c-baa024529fe7",
   "metadata": {},
   "source": [
    "# End to end Deep learningproject using RNN"
   ]
  },
  {
   "cell_type": "code",
   "execution_count": 17,
   "id": "bc9fdf66-ad41-437c-9486-7c095be30b53",
   "metadata": {},
   "outputs": [],
   "source": [
    "import numpy as np\n",
    "import tensorflow as tf\n",
    "from tensorflow.keras.datasets import imdb\n",
    "from tensorflow.keras.preprocessing import sequence\n",
    "from tensorflow.keras.models import Sequential\n",
    "from tensorflow.keras.layers import Embedding,SimpleRNN,Dense\n"
   ]
  },
  {
   "cell_type": "code",
   "execution_count": 18,
   "id": "1a68b998-3ab0-4de2-a57d-27d49199e80c",
   "metadata": {},
   "outputs": [
    {
     "name": "stdout",
     "output_type": "stream",
     "text": [
      "Downloading data from https://storage.googleapis.com/tensorflow/tf-keras-datasets/imdb.npz\n",
      "\u001b[1m17464789/17464789\u001b[0m \u001b[32m━━━━━━━━━━━━━━━━━━━━\u001b[0m\u001b[37m\u001b[0m \u001b[1m3s\u001b[0m 0us/step\n",
      "Training data shape: (25000,), Training labels shape: (25000,)\n",
      "Testing data shape: (25000,), Testing labels shape: (25000,)\n"
     ]
    }
   ],
   "source": [
    "## load the imdb dataset\n",
    "\n",
    "max_features=10000\n",
    "(X_train,Y_train),(X_test,Y_test)= imdb.load_data(num_words=max_features)\n",
    "print(f'Training data shape: {X_train.shape}, Training labels shape: {Y_train.shape}')\n",
    "print(f'Testing data shape: {X_train.shape}, Testing labels shape: {Y_test.shape}')"
   ]
  },
  {
   "cell_type": "code",
   "execution_count": 20,
   "id": "c4a83dac-2d19-40c5-a69e-1936ef3885f5",
   "metadata": {},
   "outputs": [],
   "source": [
    "## Inspect a sample review and its label\n",
    "sample_review=X_train[0]\n",
    "sample_label=Y_train[0]"
   ]
  },
  {
   "cell_type": "code",
   "execution_count": 21,
   "id": "36da33ce-9fc2-4e64-96ad-b0649e330599",
   "metadata": {},
   "outputs": [
    {
     "name": "stdout",
     "output_type": "stream",
     "text": [
      "Sample review (as integers):[1, 14, 22, 16, 43, 530, 973, 1622, 1385, 65, 458, 4468, 66, 3941, 4, 173, 36, 256, 5, 25, 100, 43, 838, 112, 50, 670, 2, 9, 35, 480, 284, 5, 150, 4, 172, 112, 167, 2, 336, 385, 39, 4, 172, 4536, 1111, 17, 546, 38, 13, 447, 4, 192, 50, 16, 6, 147, 2025, 19, 14, 22, 4, 1920, 4613, 469, 4, 22, 71, 87, 12, 16, 43, 530, 38, 76, 15, 13, 1247, 4, 22, 17, 515, 17, 12, 16, 626, 18, 2, 5, 62, 386, 12, 8, 316, 8, 106, 5, 4, 2223, 5244, 16, 480, 66, 3785, 33, 4, 130, 12, 16, 38, 619, 5, 25, 124, 51, 36, 135, 48, 25, 1415, 33, 6, 22, 12, 215, 28, 77, 52, 5, 14, 407, 16, 82, 2, 8, 4, 107, 117, 5952, 15, 256, 4, 2, 7, 3766, 5, 723, 36, 71, 43, 530, 476, 26, 400, 317, 46, 7, 4, 2, 1029, 13, 104, 88, 4, 381, 15, 297, 98, 32, 2071, 56, 26, 141, 6, 194, 7486, 18, 4, 226, 22, 21, 134, 476, 26, 480, 5, 144, 30, 5535, 18, 51, 36, 28, 224, 92, 25, 104, 4, 226, 65, 16, 38, 1334, 88, 12, 16, 283, 5, 16, 4472, 113, 103, 32, 15, 16, 5345, 19, 178, 32]\n",
      "Sample label: 1\n"
     ]
    }
   ],
   "source": [
    "print(f\"Sample review (as integers):{sample_review}\")\n",
    "print(f'Sample label: {sample_label}')"
   ]
  },
  {
   "cell_type": "code",
   "execution_count": 31,
   "id": "ca501f03-5ef7-44ed-8dd9-59df37649c9f",
   "metadata": {},
   "outputs": [],
   "source": [
    "## Mapping of words index back to words(for understanding)\n",
    "word_index= imdb.get_word_index()\n",
    "reverse_word_index = {value: key for key, value in word_index.items()}\n"
   ]
  },
  {
   "cell_type": "code",
   "execution_count": 28,
   "id": "64c96e67-8a29-41ca-bb4f-e25a8fc5b9ca",
   "metadata": {},
   "outputs": [
    {
     "data": {
      "text/plain": [
       "\"? was not for it's self joke professional disappointment see already pretending their staged a every so found of his movies it's third plot good episodes the in who guess wasn't of doesn't a again plot find the poor let her a again vegas trouble with fight like that oh a big good for to watching essentially but was not a fat centers turn a not well how this for it's self like bad as that natural a not with starts with this for david movie the of only moments this br special br films of a sell infected for guess their childish an a man this for like musical of his ever more so while there his feelings an to not this role be get when of was others for people the br a character love newer as found a the is turner of upon so well it's self fine have early seeing if is a the social that watch him a sex as plays could by suffering time have through to long skeptical movie a music not on scene fine have guess of i'm all sympathize movie more so be whole its his watch a music see for like blue him this for everything of for sits never characters by as for automatically but down by\""
      ]
     },
     "execution_count": 28,
     "metadata": {},
     "output_type": "execute_result"
    }
   ],
   "source": [
    "decoded_review = \" \".join([reverse_word_index.get(i-1,'?') for i in sample_review])\n",
    "decoded_review"
   ]
  },
  {
   "cell_type": "code",
   "execution_count": 29,
   "id": "04a5f630-7943-4b2a-b66c-a3a0d84a3a4b",
   "metadata": {},
   "outputs": [
    {
     "data": {
      "text/plain": [
       "array([[   0,    0,    0, ...,   19,  178,   32],\n",
       "       [   0,    0,    0, ...,   16,  145,   95],\n",
       "       [   0,    0,    0, ...,    7,  129,  113],\n",
       "       ...,\n",
       "       [   0,    0,    0, ...,    4, 3586,    2],\n",
       "       [   0,    0,    0, ...,   12,    9,   23],\n",
       "       [   0,    0,    0, ...,  204,  131,    9]])"
      ]
     },
     "execution_count": 29,
     "metadata": {},
     "output_type": "execute_result"
    }
   ],
   "source": [
    "max_len=500\n",
    "\n",
    "X_train=sequence.pad_sequences(X_train,maxlen=max_len)\n",
    "X_test = sequence.pad_sequences(X_test, maxlen=max_len)\n",
    "X_train"
   ]
  },
  {
   "cell_type": "code",
   "execution_count": null,
   "id": "6c63cb25-7600-4a21-9d89-98f6fac72335",
   "metadata": {},
   "outputs": [],
   "source": []
  },
  {
   "cell_type": "code",
   "execution_count": 34,
   "id": "c3d4833e-90d1-4d4f-8057-ef99c1a07091",
   "metadata": {},
   "outputs": [],
   "source": [
    "## Train Simple RNN\n",
    "model=Sequential()\n",
    "model.add(Embedding(max_features,128)) ## Embedding Layers\n",
    "model.add(SimpleRNN(128,activation='relu'))\n",
    "model.add(Dense(1,activation=\"sigmoid\"))"
   ]
  },
  {
   "cell_type": "code",
   "execution_count": 35,
   "id": "f55caa03-bc88-487d-a716-20e9e2631b48",
   "metadata": {},
   "outputs": [
    {
     "data": {
      "text/html": [
       "<pre style=\"white-space:pre;overflow-x:auto;line-height:normal;font-family:Menlo,'DejaVu Sans Mono',consolas,'Courier New',monospace\"><span style=\"font-weight: bold\">Model: \"sequential_3\"</span>\n",
       "</pre>\n"
      ],
      "text/plain": [
       "\u001b[1mModel: \"sequential_3\"\u001b[0m\n"
      ]
     },
     "metadata": {},
     "output_type": "display_data"
    },
    {
     "data": {
      "text/html": [
       "<pre style=\"white-space:pre;overflow-x:auto;line-height:normal;font-family:Menlo,'DejaVu Sans Mono',consolas,'Courier New',monospace\">┏━━━━━━━━━━━━━━━━━━━━━━━━━━━━━━━━━━━━━━┳━━━━━━━━━━━━━━━━━━━━━━━━━━━━━┳━━━━━━━━━━━━━━━━━┓\n",
       "┃<span style=\"font-weight: bold\"> Layer (type)                         </span>┃<span style=\"font-weight: bold\"> Output Shape                </span>┃<span style=\"font-weight: bold\">         Param # </span>┃\n",
       "┡━━━━━━━━━━━━━━━━━━━━━━━━━━━━━━━━━━━━━━╇━━━━━━━━━━━━━━━━━━━━━━━━━━━━━╇━━━━━━━━━━━━━━━━━┩\n",
       "│ embedding_3 (<span style=\"color: #0087ff; text-decoration-color: #0087ff\">Embedding</span>)              │ ?                           │     <span style=\"color: #00af00; text-decoration-color: #00af00\">0</span> (unbuilt) │\n",
       "├──────────────────────────────────────┼─────────────────────────────┼─────────────────┤\n",
       "│ simple_rnn_1 (<span style=\"color: #0087ff; text-decoration-color: #0087ff\">SimpleRNN</span>)             │ ?                           │     <span style=\"color: #00af00; text-decoration-color: #00af00\">0</span> (unbuilt) │\n",
       "├──────────────────────────────────────┼─────────────────────────────┼─────────────────┤\n",
       "│ dense_1 (<span style=\"color: #0087ff; text-decoration-color: #0087ff\">Dense</span>)                      │ ?                           │     <span style=\"color: #00af00; text-decoration-color: #00af00\">0</span> (unbuilt) │\n",
       "└──────────────────────────────────────┴─────────────────────────────┴─────────────────┘\n",
       "</pre>\n"
      ],
      "text/plain": [
       "┏━━━━━━━━━━━━━━━━━━━━━━━━━━━━━━━━━━━━━━┳━━━━━━━━━━━━━━━━━━━━━━━━━━━━━┳━━━━━━━━━━━━━━━━━┓\n",
       "┃\u001b[1m \u001b[0m\u001b[1mLayer (type)                        \u001b[0m\u001b[1m \u001b[0m┃\u001b[1m \u001b[0m\u001b[1mOutput Shape               \u001b[0m\u001b[1m \u001b[0m┃\u001b[1m \u001b[0m\u001b[1m        Param #\u001b[0m\u001b[1m \u001b[0m┃\n",
       "┡━━━━━━━━━━━━━━━━━━━━━━━━━━━━━━━━━━━━━━╇━━━━━━━━━━━━━━━━━━━━━━━━━━━━━╇━━━━━━━━━━━━━━━━━┩\n",
       "│ embedding_3 (\u001b[38;5;33mEmbedding\u001b[0m)              │ ?                           │     \u001b[38;5;34m0\u001b[0m (unbuilt) │\n",
       "├──────────────────────────────────────┼─────────────────────────────┼─────────────────┤\n",
       "│ simple_rnn_1 (\u001b[38;5;33mSimpleRNN\u001b[0m)             │ ?                           │     \u001b[38;5;34m0\u001b[0m (unbuilt) │\n",
       "├──────────────────────────────────────┼─────────────────────────────┼─────────────────┤\n",
       "│ dense_1 (\u001b[38;5;33mDense\u001b[0m)                      │ ?                           │     \u001b[38;5;34m0\u001b[0m (unbuilt) │\n",
       "└──────────────────────────────────────┴─────────────────────────────┴─────────────────┘\n"
      ]
     },
     "metadata": {},
     "output_type": "display_data"
    },
    {
     "data": {
      "text/html": [
       "<pre style=\"white-space:pre;overflow-x:auto;line-height:normal;font-family:Menlo,'DejaVu Sans Mono',consolas,'Courier New',monospace\"><span style=\"font-weight: bold\"> Total params: </span><span style=\"color: #00af00; text-decoration-color: #00af00\">0</span> (0.00 B)\n",
       "</pre>\n"
      ],
      "text/plain": [
       "\u001b[1m Total params: \u001b[0m\u001b[38;5;34m0\u001b[0m (0.00 B)\n"
      ]
     },
     "metadata": {},
     "output_type": "display_data"
    },
    {
     "data": {
      "text/html": [
       "<pre style=\"white-space:pre;overflow-x:auto;line-height:normal;font-family:Menlo,'DejaVu Sans Mono',consolas,'Courier New',monospace\"><span style=\"font-weight: bold\"> Trainable params: </span><span style=\"color: #00af00; text-decoration-color: #00af00\">0</span> (0.00 B)\n",
       "</pre>\n"
      ],
      "text/plain": [
       "\u001b[1m Trainable params: \u001b[0m\u001b[38;5;34m0\u001b[0m (0.00 B)\n"
      ]
     },
     "metadata": {},
     "output_type": "display_data"
    },
    {
     "data": {
      "text/html": [
       "<pre style=\"white-space:pre;overflow-x:auto;line-height:normal;font-family:Menlo,'DejaVu Sans Mono',consolas,'Courier New',monospace\"><span style=\"font-weight: bold\"> Non-trainable params: </span><span style=\"color: #00af00; text-decoration-color: #00af00\">0</span> (0.00 B)\n",
       "</pre>\n"
      ],
      "text/plain": [
       "\u001b[1m Non-trainable params: \u001b[0m\u001b[38;5;34m0\u001b[0m (0.00 B)\n"
      ]
     },
     "metadata": {},
     "output_type": "display_data"
    }
   ],
   "source": [
    "model.summary()\n"
   ]
  },
  {
   "cell_type": "code",
   "execution_count": 40,
   "id": "42658eaf-339b-4f98-8de8-cd5e44d47a2f",
   "metadata": {},
   "outputs": [],
   "source": [
    "model.compile(optimizer='adam',loss='binary_crossentropy',metrics=['accuracy'])"
   ]
  },
  {
   "cell_type": "code",
   "execution_count": 41,
   "id": "965155ab-4ba9-4763-9288-5d8a1b66ba22",
   "metadata": {},
   "outputs": [
    {
     "data": {
      "text/plain": [
       "<keras.src.callbacks.early_stopping.EarlyStopping at 0x1f648bccf20>"
      ]
     },
     "execution_count": 41,
     "metadata": {},
     "output_type": "execute_result"
    }
   ],
   "source": [
    "## Creating an instance of Early Stopping Callback\n",
    "from tensorflow.keras.callbacks import EarlyStopping\n",
    "earlyStop = EarlyStopping(monitor='val_loss',patience=5, restore_best_weights=True)\n",
    "earlyStop"
   ]
  },
  {
   "cell_type": "code",
   "execution_count": 43,
   "id": "2e8a347d-e30c-4a00-a0aa-c40c27d7bf4f",
   "metadata": {},
   "outputs": [
    {
     "name": "stdout",
     "output_type": "stream",
     "text": [
      "Epoch 1/10\n",
      "\u001b[1m625/625\u001b[0m \u001b[32m━━━━━━━━━━━━━━━━━━━━\u001b[0m\u001b[37m\u001b[0m \u001b[1m37s\u001b[0m 59ms/step - accuracy: 0.8845 - loss: 0.3091 - val_accuracy: 0.7950 - val_loss: 0.4593\n",
      "Epoch 2/10\n",
      "\u001b[1m625/625\u001b[0m \u001b[32m━━━━━━━━━━━━━━━━━━━━\u001b[0m\u001b[37m\u001b[0m \u001b[1m37s\u001b[0m 59ms/step - accuracy: 0.9097 - loss: 0.2451 - val_accuracy: 0.8002 - val_loss: 0.4651\n",
      "Epoch 3/10\n",
      "\u001b[1m625/625\u001b[0m \u001b[32m━━━━━━━━━━━━━━━━━━━━\u001b[0m\u001b[37m\u001b[0m \u001b[1m35s\u001b[0m 55ms/step - accuracy: 0.9303 - loss: 0.1954 - val_accuracy: 0.8128 - val_loss: 0.5077\n",
      "Epoch 4/10\n",
      "\u001b[1m625/625\u001b[0m \u001b[32m━━━━━━━━━━━━━━━━━━━━\u001b[0m\u001b[37m\u001b[0m \u001b[1m39s\u001b[0m 63ms/step - accuracy: 0.9464 - loss: 0.1539 - val_accuracy: 0.8138 - val_loss: 0.5368\n",
      "Epoch 5/10\n",
      "\u001b[1m625/625\u001b[0m \u001b[32m━━━━━━━━━━━━━━━━━━━━\u001b[0m\u001b[37m\u001b[0m \u001b[1m41s\u001b[0m 65ms/step - accuracy: 0.9549 - loss: 0.1256 - val_accuracy: 0.8114 - val_loss: 0.5945\n",
      "Epoch 6/10\n",
      "\u001b[1m625/625\u001b[0m \u001b[32m━━━━━━━━━━━━━━━━━━━━\u001b[0m\u001b[37m\u001b[0m \u001b[1m39s\u001b[0m 62ms/step - accuracy: 0.9584 - loss: 0.1168 - val_accuracy: 0.7704 - val_loss: 0.5882\n"
     ]
    }
   ],
   "source": [
    "## Train the model with early stopping\n",
    "history = model.fit(X_train,Y_train, epochs=10,batch_size=32,validation_split=0.2,callbacks=[earlyStop])"
   ]
  },
  {
   "cell_type": "code",
   "execution_count": 48,
   "id": "5c554d21-05d2-41c5-8474-14583b0bf6eb",
   "metadata": {},
   "outputs": [
    {
     "data": {
      "text/plain": [
       "[PhysicalDevice(name='/physical_device:CPU:0', device_type='CPU')]"
      ]
     },
     "execution_count": 48,
     "metadata": {},
     "output_type": "execute_result"
    }
   ],
   "source": [
    "import tensorflow as tf\n",
    "tf.config.list_physical_devices()"
   ]
  },
  {
   "cell_type": "code",
   "execution_count": 51,
   "id": "c77d4e40-52ff-43e7-9ccf-0d4f187e9c45",
   "metadata": {},
   "outputs": [
    {
     "data": {
      "text/plain": [
       "(88584, 88584)"
      ]
     },
     "execution_count": 51,
     "metadata": {},
     "output_type": "execute_result"
    }
   ],
   "source": [
    "len(reverse_word_index),len(word_index)"
   ]
  },
  {
   "cell_type": "code",
   "execution_count": 90,
   "id": "ef6d592b-3db9-4946-beec-598d7de4cd32",
   "metadata": {},
   "outputs": [
    {
     "ename": "NameError",
     "evalue": "name 'load_model' is not defined",
     "output_type": "error",
     "traceback": [
      "\u001b[1;31m---------------------------------------------------------------------------\u001b[0m",
      "\u001b[1;31mNameError\u001b[0m                                 Traceback (most recent call last)",
      "Cell \u001b[1;32mIn[90], line 1\u001b[0m\n\u001b[1;32m----> 1\u001b[0m model \u001b[38;5;241m=\u001b[39m \u001b[43mload_model\u001b[49m(\u001b[38;5;124m'\u001b[39m\u001b[38;5;124mimdb.keras\u001b[39m\u001b[38;5;124m'\u001b[39m)\n\u001b[0;32m      2\u001b[0m model\u001b[38;5;241m.\u001b[39msummary()\n",
      "\u001b[1;31mNameError\u001b[0m: name 'load_model' is not defined"
     ]
    }
   ],
   "source": [
    "model = load_model('imdb.keras')\n",
    "model.summary()"
   ]
  },
  {
   "cell_type": "code",
   "execution_count": 54,
   "id": "0574d455-9674-4e71-984b-6236e15abceb",
   "metadata": {},
   "outputs": [
    {
     "name": "stderr",
     "output_type": "stream",
     "text": [
      "WARNING:absl:You are saving your model as an HDF5 file via `model.save()` or `keras.saving.save_model(model)`. This file format is considered legacy. We recommend using instead the native Keras format, e.g. `model.save('my_model.keras')` or `keras.saving.save_model(model, 'my_model.keras')`. \n"
     ]
    }
   ],
   "source": []
  },
  {
   "cell_type": "code",
   "execution_count": 57,
   "id": "ea564bce-e199-4710-9a45-e4a00f7dee43",
   "metadata": {},
   "outputs": [],
   "source": []
  },
  {
   "cell_type": "code",
   "execution_count": 53,
   "id": "7a902ac6-bfad-47f3-ba7f-b2c3be3f0e60",
   "metadata": {},
   "outputs": [
    {
     "data": {
      "text/plain": [
       "[array([[-0.4316222 ,  0.3992187 ,  0.02933504, ..., -0.48767817,\n",
       "         -0.4870561 ,  0.3810869 ],\n",
       "        [ 0.01197027,  0.01652523, -0.05397278, ...,  0.04586301,\n",
       "         -0.04514337, -0.05131028],\n",
       "        [-0.04913458,  0.03355016, -0.05712738, ...,  0.0172391 ,\n",
       "          0.06231156,  0.09531822],\n",
       "        ...,\n",
       "        [-0.07313779, -0.00767567,  0.00763339, ..., -0.0657617 ,\n",
       "         -0.02773253,  0.04744413],\n",
       "        [-0.11823159,  0.02049278,  0.06666391, ...,  0.02617441,\n",
       "          0.02286297, -0.01740515],\n",
       "        [ 0.09482443, -0.09734759, -0.04853046, ..., -0.1075526 ,\n",
       "         -0.06418534, -0.06509908]], dtype=float32),\n",
       " array([[ 1.76901296e-01, -3.63643728e-02,  1.47071898e-01, ...,\n",
       "         -2.34198589e-02,  1.09952055e-01,  1.01088379e-02],\n",
       "        [ 1.54795067e-04, -8.76906887e-02, -3.20774615e-02, ...,\n",
       "          1.91621594e-02, -4.80601713e-02,  7.68144205e-02],\n",
       "        [ 7.77679011e-02, -6.41419739e-02, -9.47977379e-02, ...,\n",
       "         -6.10423312e-02,  9.21830684e-02, -4.46843877e-02],\n",
       "        ...,\n",
       "        [ 1.09415397e-01, -1.02723680e-01,  4.63238508e-02, ...,\n",
       "          2.25552684e-03,  4.30149585e-02, -3.02523784e-02],\n",
       "        [ 5.99763840e-02, -1.30611598e-01,  1.21995978e-01, ...,\n",
       "         -1.82085127e-01,  1.35396376e-01, -7.60265663e-02],\n",
       "        [ 1.28420621e-01,  1.83909938e-01,  2.24387310e-02, ...,\n",
       "          1.37656704e-01, -1.09430857e-01,  3.77142942e-03]], dtype=float32),\n",
       " array([[-0.08004502, -0.14836547,  0.03169488, ..., -0.05169549,\n",
       "         -0.05399685,  0.02099329],\n",
       "        [-0.00163101, -0.08771767, -0.10708559, ...,  0.0398159 ,\n",
       "          0.05531768,  0.12790759],\n",
       "        [-0.11494955,  0.03951059,  0.0036185 , ..., -0.16108772,\n",
       "          0.00151601,  0.02556148],\n",
       "        ...,\n",
       "        [ 0.02417945,  0.05462242,  0.12423392, ..., -0.11626207,\n",
       "          0.04296228,  0.03569628],\n",
       "        [ 0.08573934,  0.1121726 ,  0.20551938, ..., -0.00026476,\n",
       "          0.00864727, -0.09081233],\n",
       "        [ 0.04953547,  0.02797413, -0.00396867, ..., -0.03854603,\n",
       "         -0.07442378, -0.01086891]], dtype=float32),\n",
       " array([-0.01362149,  0.02893798,  0.0179635 , -0.02835054,  0.02074693,\n",
       "         0.00537949,  0.02866155, -0.03565804,  0.02149755, -0.00832545,\n",
       "        -0.02181588, -0.02194856,  0.04130545,  0.04051259, -0.02486235,\n",
       "         0.00278541, -0.03901541, -0.03972708,  0.01451481, -0.01524683,\n",
       "        -0.03939691, -0.03658425, -0.03393382,  0.02701132,  0.03863256,\n",
       "         0.00499127,  0.00982334, -0.03680918,  0.03519815,  0.04088691,\n",
       "        -0.02946465, -0.03486752,  0.02080407,  0.01466657, -0.03068796,\n",
       "        -0.03314082,  0.01853669, -0.02968105, -0.02240309, -0.02230079,\n",
       "        -0.01543325, -0.01959965, -0.02333204, -0.02141703, -0.01066237,\n",
       "         0.01708012, -0.00301202,  0.03701251, -0.02278736,  0.01881388,\n",
       "         0.02435873, -0.02587702, -0.02676941,  0.01162307,  0.01137638,\n",
       "        -0.02681071, -0.03324193, -0.02725846,  0.01240721, -0.02115726,\n",
       "         0.01911669, -0.02461416,  0.0066964 , -0.02123278,  0.00908543,\n",
       "        -0.02281603, -0.01570281,  0.0124928 ,  0.01981474, -0.01800026,\n",
       "         0.01019772, -0.0314114 ,  0.03118243, -0.02451992, -0.03720422,\n",
       "        -0.01288735, -0.03686912,  0.01664305, -0.02280436,  0.01505308,\n",
       "        -0.0246833 , -0.00628265, -0.03267521, -0.02472825, -0.03204394,\n",
       "         0.00181181,  0.02415519,  0.02925018, -0.02824157, -0.03244934,\n",
       "        -0.01738147, -0.02331674, -0.01587527, -0.01975578,  0.03943957,\n",
       "        -0.02841068,  0.00277141,  0.02447001, -0.0033128 ,  0.01396892,\n",
       "        -0.01543002,  0.01193819,  0.02652564, -0.02337746, -0.03864645,\n",
       "        -0.04078644,  0.00084671, -0.0166497 , -0.01956559, -0.01634117,\n",
       "        -0.0380464 , -0.01092654,  0.01451649, -0.01840583, -0.01377907,\n",
       "        -0.0221149 , -0.01804089, -0.00682661,  0.00525193, -0.03473461,\n",
       "        -0.02408119, -0.01024398,  0.00279342,  0.01015865, -0.04406552,\n",
       "         0.03336734, -0.02258771,  0.00721777], dtype=float32),\n",
       " array([[ 0.8590105 ],\n",
       "        [-0.19155593],\n",
       "        [ 0.03059919],\n",
       "        [-0.07411471],\n",
       "        [-0.15493026],\n",
       "        [ 1.6588795 ],\n",
       "        [-0.11627983],\n",
       "        [ 0.17333466],\n",
       "        [-0.12612787],\n",
       "        [-0.14818104],\n",
       "        [-0.23218751],\n",
       "        [ 0.05893291],\n",
       "        [ 0.10303214],\n",
       "        [ 0.10307385],\n",
       "        [-0.09594873],\n",
       "        [-0.19216587],\n",
       "        [ 0.15860389],\n",
       "        [ 0.29890752],\n",
       "        [-0.03125642],\n",
       "        [-0.07144243],\n",
       "        [ 0.1253832 ],\n",
       "        [ 0.00325518],\n",
       "        [ 0.06487057],\n",
       "        [ 0.12814657],\n",
       "        [-0.23443744],\n",
       "        [-0.22106703],\n",
       "        [-0.16589965],\n",
       "        [ 0.13833833],\n",
       "        [ 0.19740537],\n",
       "        [-0.00375753],\n",
       "        [ 0.18832465],\n",
       "        [ 0.18419768],\n",
       "        [ 0.21342485],\n",
       "        [ 0.1527174 ],\n",
       "        [-0.12733024],\n",
       "        [ 0.16356759],\n",
       "        [ 0.19019401],\n",
       "        [ 0.00921902],\n",
       "        [ 0.42234752],\n",
       "        [-0.00504713],\n",
       "        [-0.01415452],\n",
       "        [-0.21011437],\n",
       "        [-0.07607301],\n",
       "        [ 0.21041593],\n",
       "        [-0.05754746],\n",
       "        [ 0.41289338],\n",
       "        [-0.3650974 ],\n",
       "        [ 0.27458423],\n",
       "        [-0.06078119],\n",
       "        [-0.20506628],\n",
       "        [ 0.13276045],\n",
       "        [ 0.17788276],\n",
       "        [ 0.1605732 ],\n",
       "        [ 0.09176854],\n",
       "        [ 0.1264757 ],\n",
       "        [-0.07730395],\n",
       "        [-0.07177813],\n",
       "        [ 0.17048246],\n",
       "        [ 0.13759902],\n",
       "        [ 0.36411154],\n",
       "        [-0.0034782 ],\n",
       "        [ 0.20173274],\n",
       "        [-0.26065797],\n",
       "        [-0.10872741],\n",
       "        [-0.31424454],\n",
       "        [ 0.01554477],\n",
       "        [ 0.07828579],\n",
       "        [-0.19596264],\n",
       "        [ 0.07852094],\n",
       "        [ 0.11041986],\n",
       "        [-0.02110133],\n",
       "        [ 0.77182126],\n",
       "        [-0.2977784 ],\n",
       "        [-0.23971537],\n",
       "        [ 0.88277864],\n",
       "        [ 0.139308  ],\n",
       "        [-0.05441092],\n",
       "        [ 0.0296645 ],\n",
       "        [ 0.1962997 ],\n",
       "        [ 0.08427219],\n",
       "        [ 0.7254346 ],\n",
       "        [-0.13640666],\n",
       "        [ 0.17791446],\n",
       "        [ 0.15749706],\n",
       "        [ 0.07180212],\n",
       "        [ 0.08737769],\n",
       "        [ 0.18388228],\n",
       "        [ 0.11573091],\n",
       "        [ 0.02174739],\n",
       "        [ 0.22193208],\n",
       "        [-0.00810807],\n",
       "        [-0.06298418],\n",
       "        [ 0.10227069],\n",
       "        [ 0.09155716],\n",
       "        [-0.29988953],\n",
       "        [ 0.02919654],\n",
       "        [-0.11252855],\n",
       "        [-0.20066673],\n",
       "        [-0.1616587 ],\n",
       "        [-0.05403199],\n",
       "        [ 0.3176188 ],\n",
       "        [-1.0326074 ],\n",
       "        [-0.16314347],\n",
       "        [ 0.01216285],\n",
       "        [-0.0966831 ],\n",
       "        [ 0.8820105 ],\n",
       "        [-0.6475935 ],\n",
       "        [ 0.14180969],\n",
       "        [-0.22797891],\n",
       "        [-0.04015736],\n",
       "        [ 0.48703942],\n",
       "        [ 0.1142514 ],\n",
       "        [ 0.17825449],\n",
       "        [ 0.21528126],\n",
       "        [ 0.19555831],\n",
       "        [ 0.13700825],\n",
       "        [ 0.13361867],\n",
       "        [ 0.0019683 ],\n",
       "        [-0.08044862],\n",
       "        [ 0.07786735],\n",
       "        [ 0.07212621],\n",
       "        [ 0.03316624],\n",
       "        [-0.19880489],\n",
       "        [-0.14008035],\n",
       "        [ 0.00331837],\n",
       "        [-0.14070082],\n",
       "        [ 0.19254278],\n",
       "        [-0.1722587 ]], dtype=float32),\n",
       " array([1.2647194], dtype=float32)]"
      ]
     },
     "execution_count": 53,
     "metadata": {},
     "output_type": "execute_result"
    }
   ],
   "source": [
    "model.get_weights()"
   ]
  },
  {
   "cell_type": "code",
   "execution_count": 58,
   "id": "52a68a05-ff55-4a21-8048-e5620e64366c",
   "metadata": {},
   "outputs": [],
   "source": [
    "# Step 2: Helper Functions\n",
    "# Function to decode reviews\n",
    "def decode_review(encoded_review):\n",
    "    return ' '.join([reverse_word_index.get(i - 3, '?') for i in encoded_review])\n",
    "\n",
    "# Function to preprocess user input\n",
    "def preprocess_text(text):\n",
    "    words = text.lower().split()\n",
    "    encoded_review = [word_index.get(word, 2) + 3 for word in words]\n",
    "    padded_review = sequence.pad_sequences([encoded_review], maxlen=500)\n",
    "    return padded_review"
   ]
  },
  {
   "cell_type": "code",
   "execution_count": 63,
   "id": "32688a76-6e62-4540-9e84-515d9e20a92b",
   "metadata": {},
   "outputs": [],
   "source": [
    "### Prediction  function\n",
    "\n",
    "def predict_sentiment(review):\n",
    "    preprocessed_input=preprocess_text(review)\n",
    "\n",
    "    prediction=model.predict(preprocessed_input)\n",
    "    sentiment = 'Positive😀' if prediction[0][0] > 0.5 else 'Negative😠'\n",
    "    return sentiment, prediction[0][0]\n",
    "\n"
   ]
  },
  {
   "cell_type": "code",
   "execution_count": 89,
   "id": "559258a1-a262-4c21-9186-527b661782ea",
   "metadata": {},
   "outputs": [
    {
     "name": "stdout",
     "output_type": "stream",
     "text": [
      "\u001b[1m1/1\u001b[0m \u001b[32m━━━━━━━━━━━━━━━━━━━━\u001b[0m\u001b[37m\u001b[0m \u001b[1m0s\u001b[0m 22ms/step\n",
      "Review:  the movie was a success.but some parts were slow. so overall i believe it was a flop\n",
      "Sentiment: Negative😠\n",
      "Prediction Score: 0.04793202504515648\n"
     ]
    }
   ],
   "source": [
    "# Step 4: User Input and Prediction\n",
    "# Example review for prediction\n",
    "example_review = \"\"\" the movie was a success.but some parts were slow. so overall i believe it was a \"\"\"\n",
    "\n",
    "sentiment,score=predict_sentiment(example_review)\n",
    "\n",
    "print(f'Review: {example_review}')\n",
    "\n",
    "\n",
    "print(f'Sentiment: {sentiment}')\n",
    "print(f'Prediction Score: {score}')"
   ]
  },
  {
   "cell_type": "code",
   "execution_count": null,
   "id": "543814ca-fa41-42ec-a046-b892ae9c2513",
   "metadata": {},
   "outputs": [],
   "source": []
  }
 ],
 "metadata": {
  "kernelspec": {
   "display_name": "cuda-gpt",
   "language": "python",
   "name": "cudo"
  },
  "language_info": {
   "codemirror_mode": {
    "name": "ipython",
    "version": 3
   },
   "file_extension": ".py",
   "mimetype": "text/x-python",
   "name": "python",
   "nbconvert_exporter": "python",
   "pygments_lexer": "ipython3",
   "version": "3.12.4"
  }
 },
 "nbformat": 4,
 "nbformat_minor": 5
}
